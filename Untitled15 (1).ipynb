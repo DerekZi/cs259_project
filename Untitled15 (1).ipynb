{
  "nbformat": 4,
  "nbformat_minor": 0,
  "metadata": {
    "colab": {
      "provenance": [],
      "machine_shape": "hm",
      "gpuType": "T4"
    },
    "kernelspec": {
      "name": "python3",
      "display_name": "Python 3"
    },
    "language_info": {
      "name": "python"
    },
    "accelerator": "GPU"
  },
  "cells": [
    {
      "cell_type": "code",
      "execution_count": 10,
      "metadata": {
        "id": "PeF2Q_l8FmaH"
      },
      "outputs": [],
      "source": [
        "from transformers import AutoConfig, AutoModelForCausalLM, AutoTokenizer\n",
        "checkpoint = \"Salesforce/codegen-2B-multi\"\n",
        "model = AutoModelForCausalLM.from_pretrained(checkpoint)\n",
        "tokenizer = AutoTokenizer.from_pretrained(checkpoint, truncation=True, max_length=2048)"
      ]
    },
    {
      "cell_type": "code",
      "source": [
        "device = 'cuda'"
      ],
      "metadata": {
        "id": "CzSIKPO_J2a-"
      },
      "execution_count": 11,
      "outputs": []
    },
    {
      "cell_type": "code",
      "source": [
        "%cd data"
      ],
      "metadata": {
        "colab": {
          "base_uri": "https://localhost:8080/"
        },
        "id": "Lt5guFFEIZqD",
        "outputId": "f40bb7ba-442c-44ff-d543-435f8d6f5779"
      },
      "execution_count": 3,
      "outputs": [
        {
          "output_type": "stream",
          "name": "stdout",
          "text": [
            "/content/data\n"
          ]
        }
      ]
    },
    {
      "cell_type": "code",
      "source": [
        "!python ../process_data.py"
      ],
      "metadata": {
        "id": "5mxX3hn9824D"
      },
      "execution_count": 8,
      "outputs": []
    },
    {
      "cell_type": "code",
      "source": [
        "prompt = \"\"\"\n",
        "Consider the following input output pairs where input is a program and output is the program with High Level Synthesis pragmas inserted\\n\n",
        "\n",
        "Input:\n",
        "\n",
        "void kernel_fdtd_2d(int tmax,int nx,int ny,double ex[60][80],double ey[60][80],double hz[60][80],double _fict_[40])\n",
        "{\n",
        "  int t;\n",
        "  int i;\n",
        "  int j;\n",
        "  for (t = 0; t < 40; t++) {\n",
        "    for (j = 0; j < 80; j++) {\n",
        "      ey[0][j] = _fict_[t];\n",
        "    }\n",
        "    for (i = 1; i < 60; i++) {\n",
        "      for (j = 0; j < 80; j++) {\n",
        "        ey[i][j] = ey[i][j] - 0.5 * (hz[i][j] - hz[i - 1][j]);\n",
        "      }\n",
        "    }\n",
        "\n",
        "    for (i = 0; i < 60; i++) {\n",
        "\n",
        "      for (j = 1; j < 80; j++) {\n",
        "        ex[i][j] = ex[i][j] - 0.5 * (hz[i][j] - hz[i][j - 1]);\n",
        "      }\n",
        "    }\n",
        "    for (i = 0; i < 59; i++) {\n",
        "      for (j = 0; j < 79; j++) {\n",
        "        hz[i][j] = hz[i][j] - 0.7 * (ex[i][j + 1] - ex[i][j] + ey[i + 1][j] - ey[i][j]);\n",
        "      }\n",
        "    }\n",
        "  }\n",
        "}\n",
        "Output:\n",
        "#pragma ACCEL kernel\n",
        "\n",
        "void kernel_fdtd_2d(int tmax,int nx,int ny,double ex[60][80],double ey[60][80],double hz[60][80],double _fict_[40])\n",
        "{\n",
        "  int t;\n",
        "  int i;\n",
        "  int j;\n",
        "//#pragma scop\n",
        "\n",
        "#pragma ACCEL PIPELINE auto{__PIPE__L0}\n",
        "\n",
        "#pragma ACCEL TILE FACTOR=auto{__TILE__L0}\n",
        "\n",
        "#pragma ACCEL PARALLEL FACTOR=auto{__PARA__L0}\n",
        "  for (t = 0; t < 40; t++) {\n",
        "\n",
        "#pragma ACCEL PARALLEL FACTOR=auto{__PARA__L0_0}\n",
        "    for (j = 0; j < 80; j++) {\n",
        "      ey[0][j] = _fict_[t];\n",
        "    }\n",
        "\n",
        "#pragma ACCEL PIPELINE auto{__PIPE__L0_1}\n",
        "\n",
        "#pragma ACCEL TILE FACTOR=auto{__TILE__L0_1}\n",
        "\n",
        "#pragma ACCEL PARALLEL FACTOR=auto{__PARA__L0_1}\n",
        "    for (i = 1; i < 60; i++) {\n",
        "\n",
        "#pragma ACCEL PARALLEL FACTOR=auto{__PARA__L0_1_0}\n",
        "      for (j = 0; j < 80; j++) {\n",
        "        ey[i][j] = ey[i][j] - 0.5 * (hz[i][j] - hz[i - 1][j]);\n",
        "      }\n",
        "    }\n",
        "\n",
        "#pragma ACCEL PIPELINE auto{__PIPE__L0_2}\n",
        "\n",
        "#pragma ACCEL TILE FACTOR=auto{__TILE__L0_2}\n",
        "\n",
        "#pragma ACCEL PARALLEL FACTOR=auto{__PARA__L0_2}\n",
        "    for (i = 0; i < 60; i++) {\n",
        "\n",
        "#pragma ACCEL PARALLEL FACTOR=auto{__PARA__L0_2_0}\n",
        "      for (j = 1; j < 80; j++) {\n",
        "        ex[i][j] = ex[i][j] - 0.5 * (hz[i][j] - hz[i][j - 1]);\n",
        "      }\n",
        "    }\n",
        "\n",
        "#pragma ACCEL PIPELINE auto{__PIPE__L0_3}\n",
        "\n",
        "#pragma ACCEL TILE FACTOR=auto{__TILE__L0_3}\n",
        "\n",
        "#pragma ACCEL PARALLEL FACTOR=auto{__PARA__L0_3}\n",
        "    for (i = 0; i < 59; i++) {\n",
        "\n",
        "#pragma ACCEL PARALLEL FACTOR=auto{__PARA__L0_3_0}\n",
        "      for (j = 0; j < 79; j++) {\n",
        "        hz[i][j] = hz[i][j] - 0.7 * (ex[i][j + 1] - ex[i][j] + ey[i + 1][j] - ey[i][j]);\n",
        "      }\n",
        "    }\n",
        "  }\n",
        "//#pragma endscop\n",
        "}\n",
        "\n",
        "\n",
        "\"\"\""
      ],
      "metadata": {
        "id": "-qQvVNjJ9M1L"
      },
      "execution_count": 12,
      "outputs": []
    },
    {
      "cell_type": "code",
      "source": [
        "prompt += \"\"\"\n",
        "Act as an expert in High Level Synthesis, insert High Level Synthesis pragma to the folloing program.\n",
        "\"\"\""
      ],
      "metadata": {
        "id": "X2oMPyDB_BX9"
      },
      "execution_count": 13,
      "outputs": []
    },
    {
      "cell_type": "code",
      "source": [
        "print(prompt)"
      ],
      "metadata": {
        "colab": {
          "base_uri": "https://localhost:8080/"
        },
        "id": "AaNdTtfe_k1H",
        "outputId": "b5536f56-a3d2-40f5-e6ca-3f75e9e52c58"
      },
      "execution_count": 14,
      "outputs": [
        {
          "output_type": "stream",
          "name": "stdout",
          "text": [
            "\n",
            "Consider the following input output pairs where input is a program and output is the program with High Level Synthesis pragmas inserted\n",
            "\n",
            "\n",
            "Input:\n",
            "\n",
            "void kernel_fdtd_2d(int tmax,int nx,int ny,double ex[60][80],double ey[60][80],double hz[60][80],double _fict_[40])\n",
            "{\n",
            "  int t;\n",
            "  int i;\n",
            "  int j;\n",
            "  for (t = 0; t < 40; t++) {\n",
            "    for (j = 0; j < 80; j++) {\n",
            "      ey[0][j] = _fict_[t];\n",
            "    }\n",
            "    for (i = 1; i < 60; i++) {\n",
            "      for (j = 0; j < 80; j++) {\n",
            "        ey[i][j] = ey[i][j] - 0.5 * (hz[i][j] - hz[i - 1][j]);\n",
            "      }\n",
            "    }\n",
            "    \n",
            "    for (i = 0; i < 60; i++) {\n",
            "      \n",
            "      for (j = 1; j < 80; j++) {\n",
            "        ex[i][j] = ex[i][j] - 0.5 * (hz[i][j] - hz[i][j - 1]);\n",
            "      }\n",
            "    }\n",
            "    for (i = 0; i < 59; i++) {\n",
            "      for (j = 0; j < 79; j++) {\n",
            "        hz[i][j] = hz[i][j] - 0.7 * (ex[i][j + 1] - ex[i][j] + ey[i + 1][j] - ey[i][j]);\n",
            "      }\n",
            "    }\n",
            "  }\n",
            "}\n",
            "Output:\n",
            "#pragma ACCEL kernel\n",
            "\n",
            "void kernel_fdtd_2d(int tmax,int nx,int ny,double ex[60][80],double ey[60][80],double hz[60][80],double _fict_[40])\n",
            "{\n",
            "  int t;\n",
            "  int i;\n",
            "  int j;\n",
            "//#pragma scop\n",
            "  \n",
            "#pragma ACCEL PIPELINE auto{__PIPE__L0}\n",
            "  \n",
            "#pragma ACCEL TILE FACTOR=auto{__TILE__L0}\n",
            "  \n",
            "#pragma ACCEL PARALLEL FACTOR=auto{__PARA__L0}\n",
            "  for (t = 0; t < 40; t++) {\n",
            "    \n",
            "#pragma ACCEL PARALLEL FACTOR=auto{__PARA__L0_0}\n",
            "    for (j = 0; j < 80; j++) {\n",
            "      ey[0][j] = _fict_[t];\n",
            "    }\n",
            "    \n",
            "#pragma ACCEL PIPELINE auto{__PIPE__L0_1}\n",
            "    \n",
            "#pragma ACCEL TILE FACTOR=auto{__TILE__L0_1}\n",
            "    \n",
            "#pragma ACCEL PARALLEL FACTOR=auto{__PARA__L0_1}\n",
            "    for (i = 1; i < 60; i++) {\n",
            "      \n",
            "#pragma ACCEL PARALLEL FACTOR=auto{__PARA__L0_1_0}\n",
            "      for (j = 0; j < 80; j++) {\n",
            "        ey[i][j] = ey[i][j] - 0.5 * (hz[i][j] - hz[i - 1][j]);\n",
            "      }\n",
            "    }\n",
            "    \n",
            "#pragma ACCEL PIPELINE auto{__PIPE__L0_2}\n",
            "    \n",
            "#pragma ACCEL TILE FACTOR=auto{__TILE__L0_2}\n",
            "    \n",
            "#pragma ACCEL PARALLEL FACTOR=auto{__PARA__L0_2}\n",
            "    for (i = 0; i < 60; i++) {\n",
            "      \n",
            "#pragma ACCEL PARALLEL FACTOR=auto{__PARA__L0_2_0}\n",
            "      for (j = 1; j < 80; j++) {\n",
            "        ex[i][j] = ex[i][j] - 0.5 * (hz[i][j] - hz[i][j - 1]);\n",
            "      }\n",
            "    }\n",
            "    \n",
            "#pragma ACCEL PIPELINE auto{__PIPE__L0_3}\n",
            "    \n",
            "#pragma ACCEL TILE FACTOR=auto{__TILE__L0_3}\n",
            "    \n",
            "#pragma ACCEL PARALLEL FACTOR=auto{__PARA__L0_3}\n",
            "    for (i = 0; i < 59; i++) {\n",
            "      \n",
            "#pragma ACCEL PARALLEL FACTOR=auto{__PARA__L0_3_0}\n",
            "      for (j = 0; j < 79; j++) {\n",
            "        hz[i][j] = hz[i][j] - 0.7 * (ex[i][j + 1] - ex[i][j] + ey[i + 1][j] - ey[i][j]);\n",
            "      }\n",
            "    }\n",
            "  }\n",
            "//#pragma endscop\n",
            "}\n",
            "\n",
            "\n",
            "\n",
            "Act as an expert in High Level Synthesis, insert High Level Synthesis pragma to the folloing program.\n",
            "\n"
          ]
        }
      ]
    },
    {
      "cell_type": "code",
      "source": [
        "programs = [\n",
        "        'processed-mm-krnl.cpp',\n",
        "        'processed-dotprod-krnl2.cpp',\n",
        "        'processed-dotprod-krnl.cpp',\n",
        "        'processed-ewmm-krnl.cpp',\n",
        "        'processed-jacobi_1d-krnl.cpp',\n",
        "        'processed-madd-krnl.cpp',\n",
        "        'processed-syrk-krnl.cpp',\n",
        "        'processed-trmm-krnl.cpp',\n",
        "        'processed-trmm-opt-krnl.cpp',\n",
        "        'processed-vadd-krnl.cpp'\n",
        "]\n",
        "context = {}\n",
        "for program in programs:\n",
        "  with open(program, 'r') as f:\n",
        "    lines = f.readlines()\n",
        "    context[program] = prompt+'Input:'+'\\n'.join(lines) + \"\\nOutput:\\n\""
      ],
      "metadata": {
        "id": "W-_l8m65Gubk"
      },
      "execution_count": 15,
      "outputs": []
    },
    {
      "cell_type": "code",
      "source": [
        "from tqdm import tqdm"
      ],
      "metadata": {
        "id": "jLruvfORIf-j"
      },
      "execution_count": 16,
      "outputs": []
    },
    {
      "cell_type": "code",
      "source": [
        "model = model.to(device)"
      ],
      "metadata": {
        "id": "nyyMFNTwBE4X"
      },
      "execution_count": 17,
      "outputs": []
    },
    {
      "cell_type": "code",
      "source": [
        "lens = [2000]\n",
        "for len in lens:\n",
        "    for program in tqdm(context):\n",
        "        text = context[program]\n",
        "        inputs = tokenizer(text, return_tensors=\"pt\", truncation=True)\n",
        "        attention_mask = inputs[\"attention_mask\"].to(device)\n",
        "        input_ids=inputs[\"input_ids\"].to(device)\n",
        "        completion = model.generate(input_ids=input_ids, max_length=len, attention_mask=attention_mask)\n",
        "        output = tokenizer.decode(completion[0])\n",
        "        output_idx = output.rfind(\"Output:\\n\")\n",
        "        with open('./outputs/fewshots/' + program[program.find('processed'):program.find('.cpp')]+str(len)+'.out','w') as f:\n",
        "            f.write(output[output_idx:])\n"
      ],
      "metadata": {
        "id": "1aelkVXPNAqW",
        "colab": {
          "base_uri": "https://localhost:8080/"
        },
        "outputId": "a436a578-612e-415b-e725-45bfd3503851"
      },
      "execution_count": null,
      "outputs": [
        {
          "output_type": "stream",
          "name": "stderr",
          "text": [
            "  0%|          | 0/10 [00:00<?, ?it/s]Setting `pad_token_id` to `eos_token_id`:50256 for open-end generation.\n",
            " 10%|█         | 1/10 [00:10<01:35, 10.61s/it]Setting `pad_token_id` to `eos_token_id`:50256 for open-end generation.\n"
          ]
        }
      ]
    },
    {
      "cell_type": "code",
      "source": [
        "!zip -r /content/fewshots.zip /content/data/outputs/fewshots/\n"
      ],
      "metadata": {
        "colab": {
          "base_uri": "https://localhost:8080/"
        },
        "id": "Oii4w982iny6",
        "outputId": "dfa4b06e-a43e-48e4-8a3a-c8e1c26f7f42"
      },
      "execution_count": 19,
      "outputs": [
        {
          "output_type": "stream",
          "name": "stdout",
          "text": [
            "  adding: content/data/outputs/fewshots/ (stored 0%)\n",
            "  adding: content/data/outputs/fewshots/processed-vadd-krnl2000.out (deflated 77%)\n",
            "  adding: content/data/outputs/fewshots/processed-trmm-krnl2000.out (deflated 78%)\n",
            "  adding: content/data/outputs/fewshots/processed-syrk-krnl2000.out (deflated 80%)\n",
            "  adding: content/data/outputs/fewshots/processed-dotprod-krnl2000.out (deflated 77%)\n",
            "  adding: content/data/outputs/fewshots/processed-ewmm-krnl2000.out (deflated 77%)\n",
            "  adding: content/data/outputs/fewshots/processed-trmm-opt-krnl2000.out (deflated 78%)\n",
            "  adding: content/data/outputs/fewshots/.ipynb_checkpoints/ (stored 0%)\n",
            "  adding: content/data/outputs/fewshots/processed-mm-krnl2000.out (deflated 77%)\n",
            "  adding: content/data/outputs/fewshots/processed-madd-krnl2000.out (deflated 77%)\n",
            "  adding: content/data/outputs/fewshots/processed-dotprod-krnl22000.out (deflated 78%)\n",
            "  adding: content/data/outputs/fewshots/processed-jacobi_1d-krnl2000.out (deflated 78%)\n"
          ]
        }
      ]
    },
    {
      "cell_type": "code",
      "source": [
        "from google.colab import files\n",
        "files.download(\"/content/twoshot.zip\")"
      ],
      "metadata": {
        "colab": {
          "base_uri": "https://localhost:8080/",
          "height": 17
        },
        "id": "FAKKFgnJix2h",
        "outputId": "2b2c37f5-2993-46c7-da80-86ead06816b1"
      },
      "execution_count": 11,
      "outputs": [
        {
          "output_type": "display_data",
          "data": {
            "text/plain": [
              "<IPython.core.display.Javascript object>"
            ],
            "application/javascript": [
              "\n",
              "    async function download(id, filename, size) {\n",
              "      if (!google.colab.kernel.accessAllowed) {\n",
              "        return;\n",
              "      }\n",
              "      const div = document.createElement('div');\n",
              "      const label = document.createElement('label');\n",
              "      label.textContent = `Downloading \"${filename}\": `;\n",
              "      div.appendChild(label);\n",
              "      const progress = document.createElement('progress');\n",
              "      progress.max = size;\n",
              "      div.appendChild(progress);\n",
              "      document.body.appendChild(div);\n",
              "\n",
              "      const buffers = [];\n",
              "      let downloaded = 0;\n",
              "\n",
              "      const channel = await google.colab.kernel.comms.open(id);\n",
              "      // Send a message to notify the kernel that we're ready.\n",
              "      channel.send({})\n",
              "\n",
              "      for await (const message of channel.messages) {\n",
              "        // Send a message to notify the kernel that we're ready.\n",
              "        channel.send({})\n",
              "        if (message.buffers) {\n",
              "          for (const buffer of message.buffers) {\n",
              "            buffers.push(buffer);\n",
              "            downloaded += buffer.byteLength;\n",
              "            progress.value = downloaded;\n",
              "          }\n",
              "        }\n",
              "      }\n",
              "      const blob = new Blob(buffers, {type: 'application/binary'});\n",
              "      const a = document.createElement('a');\n",
              "      a.href = window.URL.createObjectURL(blob);\n",
              "      a.download = filename;\n",
              "      div.appendChild(a);\n",
              "      a.click();\n",
              "      div.remove();\n",
              "    }\n",
              "  "
            ]
          },
          "metadata": {}
        },
        {
          "output_type": "display_data",
          "data": {
            "text/plain": [
              "<IPython.core.display.Javascript object>"
            ],
            "application/javascript": [
              "download(\"download_7689a12d-9a73-48bc-80b1-3349d4a12840\", \"twoshot.zip\", 11140)"
            ]
          },
          "metadata": {}
        }
      ]
    },
    {
      "cell_type": "code",
      "source": [],
      "metadata": {
        "id": "SER7g2AoiF0h"
      },
      "execution_count": null,
      "outputs": []
    }
  ]
}